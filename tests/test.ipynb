{
 "cells": [
  {
   "cell_type": "code",
   "execution_count": 30,
   "metadata": {},
   "outputs": [],
   "source": [
    "from scm_gym.supplychain import SupplyChainNetwork\n",
    "from scm_gym.envs import build_beer_game, build_newsvendor\n",
    "import numpy as np"
   ]
  },
  {
   "cell_type": "code",
   "execution_count": 31,
   "metadata": {},
   "outputs": [],
   "source": [
    "device = 'cuda'"
   ]
  },
  {
   "cell_type": "code",
   "execution_count": 32,
   "metadata": {},
   "outputs": [
    {
     "name": "stdout",
     "output_type": "stream",
     "text": [
      "========== nodes: ==========\n",
      "Node: supply_source\n",
      "\tInventory: 9999999\n",
      "\tUnfilled Demand: 0\n",
      "\tCurrent Stockout Cost: 0\n",
      "\tCurrent Holding Cost: 0\n",
      "Node: newsvendor\n",
      "\tInventory: 0\n",
      "\tUnfilled Demand: 0\n",
      "\tCurrent Stockout Cost: 0\n",
      "\tCurrent Holding Cost: 0\n",
      "Node: demand_source\n",
      "\tInventory: 0\n",
      "\tUnfilled Demand: 0\n",
      "\tCurrent Stockout Cost: 0\n",
      "\tCurrent Holding Cost: 0\n",
      "========== arcs: ==========\n",
      "supply_source -> newsvendor\n",
      "\tOrders\n",
      "\tShipments\n",
      "newsvendor -> demand_source\n",
      "\tOrders\n",
      "\t Order(order_quantity: 29, shipped_quantity: 0, time_till_received: 0)\n",
      "\tShipments\n"
     ]
    }
   ],
   "source": [
    "env = build_newsvendor()\n",
    "env.scn.summary()"
   ]
  },
  {
   "cell_type": "code",
   "execution_count": 39,
   "metadata": {},
   "outputs": [],
   "source": [
    "states = env.reset()"
   ]
  },
  {
   "cell_type": "code",
   "execution_count": 52,
   "metadata": {},
   "outputs": [
    {
     "data": {
      "text/plain": [
       "['inventory', 'unfilled_demand', 'latest_demand', 'on_order', 'period']"
      ]
     },
     "execution_count": 52,
     "metadata": {},
     "output_type": "execute_result"
    }
   ],
   "source": [
    "[key for key in states.keys()]"
   ]
  },
  {
   "cell_type": "code",
   "execution_count": null,
   "metadata": {},
   "outputs": [],
   "source": []
  },
  {
   "cell_type": "code",
   "execution_count": null,
   "metadata": {},
   "outputs": [],
   "source": []
  },
  {
   "cell_type": "code",
   "execution_count": 34,
   "metadata": {},
   "outputs": [
    {
     "name": "stdout",
     "output_type": "stream",
     "text": [
      "========== nodes: ==========\n",
      "Node: supply_source\n",
      "\tInventory: 9999999\n",
      "\tUnfilled Demand: 0\n",
      "\tCurrent Stockout Cost: 0\n",
      "\tCurrent Holding Cost: 0\n",
      "Node: newsvendor\n",
      "\tInventory: 0\n",
      "\tUnfilled Demand: 0\n",
      "\tCurrent Stockout Cost: 0\n",
      "\tCurrent Holding Cost: 0\n",
      "Node: demand_source\n",
      "\tInventory: 0\n",
      "\tUnfilled Demand: 0\n",
      "\tCurrent Stockout Cost: 0\n",
      "\tCurrent Holding Cost: 0\n",
      "========== arcs: ==========\n",
      "supply_source -> newsvendor\n",
      "\tOrders\n",
      "\tShipments\n",
      "newsvendor -> demand_source\n",
      "\tOrders\n",
      "\t Order(order_quantity: 29, shipped_quantity: 0, time_till_received: 0)\n",
      "\t Order(order_quantity: 0, shipped_quantity: 0, time_till_received: 0)\n",
      "\tShipments\n"
     ]
    }
   ],
   "source": [
    "env.scn.summary()"
   ]
  },
  {
   "cell_type": "code",
   "execution_count": 35,
   "metadata": {},
   "outputs": [
    {
     "data": {
      "text/plain": [
       "({'inventory': 71,\n",
       "  'unfilled_demand': 0,\n",
       "  'latest_demand': 0,\n",
       "  'on_order': 0,\n",
       "  'previous_order_supply_source_0': 100,\n",
       "  'period': 1},\n",
       " -71,\n",
       " True)"
      ]
     },
     "execution_count": 35,
     "metadata": {},
     "output_type": "execute_result"
    }
   ],
   "source": [
    "env.step(100)"
   ]
  },
  {
   "cell_type": "code",
   "execution_count": 36,
   "metadata": {},
   "outputs": [
    {
     "ename": "ValueError",
     "evalue": "Cannot take action when the state is terminal.",
     "output_type": "error",
     "traceback": [
      "\u001b[0;31m---------------------------------------------------------------------------\u001b[0m",
      "\u001b[0;31mValueError\u001b[0m                                Traceback (most recent call last)",
      "\u001b[0;32m<ipython-input-36-d55713e6e23d>\u001b[0m in \u001b[0;36m<module>\u001b[0;34m\u001b[0m\n\u001b[0;32m----> 1\u001b[0;31m \u001b[0menv\u001b[0m\u001b[0;34m.\u001b[0m\u001b[0mstep\u001b[0m\u001b[0;34m(\u001b[0m\u001b[0;36m10\u001b[0m\u001b[0;34m)\u001b[0m\u001b[0;34m\u001b[0m\u001b[0;34m\u001b[0m\u001b[0m\n\u001b[0m",
      "\u001b[0;32m~/projects/RL Inventory Project/scm_gym/envs.py\u001b[0m in \u001b[0;36mstep\u001b[0;34m(self, quantity, verbose)\u001b[0m\n\u001b[1;32m     30\u001b[0m \u001b[0;34m\u001b[0m\u001b[0m\n\u001b[1;32m     31\u001b[0m         \u001b[0;32mif\u001b[0m \u001b[0mself\u001b[0m\u001b[0;34m.\u001b[0m\u001b[0mterminal\u001b[0m\u001b[0;34m:\u001b[0m\u001b[0;34m\u001b[0m\u001b[0;34m\u001b[0m\u001b[0m\n\u001b[0;32m---> 32\u001b[0;31m             \u001b[0;32mraise\u001b[0m \u001b[0mValueError\u001b[0m\u001b[0;34m(\u001b[0m\u001b[0;34m\"Cannot take action when the state is terminal.\"\u001b[0m\u001b[0;34m)\u001b[0m\u001b[0;34m\u001b[0m\u001b[0;34m\u001b[0m\u001b[0m\n\u001b[0m\u001b[1;32m     33\u001b[0m \u001b[0;34m\u001b[0m\u001b[0m\n\u001b[1;32m     34\u001b[0m         \u001b[0mself\u001b[0m\u001b[0;34m.\u001b[0m\u001b[0mscn\u001b[0m\u001b[0;34m.\u001b[0m\u001b[0mplayer_action\u001b[0m\u001b[0;34m(\u001b[0m\u001b[0mself\u001b[0m\u001b[0;34m.\u001b[0m\u001b[0mperiod\u001b[0m\u001b[0;34m,\u001b[0m \u001b[0mquantity\u001b[0m\u001b[0;34m)\u001b[0m\u001b[0;34m\u001b[0m\u001b[0;34m\u001b[0m\u001b[0m\n",
      "\u001b[0;31mValueError\u001b[0m: Cannot take action when the state is terminal."
     ]
    }
   ],
   "source": [
    "env.step(10)"
   ]
  },
  {
   "cell_type": "code",
   "execution_count": 37,
   "metadata": {},
   "outputs": [
    {
     "name": "stdout",
     "output_type": "stream",
     "text": [
      "========== nodes: ==========\n",
      "Node: supply_source\n",
      "\tInventory: 9999999\n",
      "\tUnfilled Demand: 0\n",
      "\tCurrent Stockout Cost: 0\n",
      "\tCurrent Holding Cost: 0\n",
      "Node: newsvendor\n",
      "\tInventory: 71\n",
      "\tUnfilled Demand: 0\n",
      "\tCurrent Stockout Cost: 0\n",
      "\tCurrent Holding Cost: -71\n",
      "Node: demand_source\n",
      "\tInventory: 29\n",
      "\tUnfilled Demand: 0\n",
      "\tCurrent Stockout Cost: 0\n",
      "\tCurrent Holding Cost: 0\n",
      "========== arcs: ==========\n",
      "supply_source -> newsvendor\n",
      "\tOrders\n",
      "\tShipments\n",
      "newsvendor -> demand_source\n",
      "\tOrders\n",
      "\tShipments\n"
     ]
    }
   ],
   "source": [
    "env.scn.summary()"
   ]
  },
  {
   "cell_type": "code",
   "execution_count": 38,
   "metadata": {},
   "outputs": [
    {
     "ename": "AttributeError",
     "evalue": "'SupplyChainNetwork' object has no attribute 'cost_structure'",
     "output_type": "error",
     "traceback": [
      "\u001b[0;31m---------------------------------------------------------------------------\u001b[0m",
      "\u001b[0;31mAttributeError\u001b[0m                            Traceback (most recent call last)",
      "\u001b[0;32m<ipython-input-38-7bffd43b536e>\u001b[0m in \u001b[0;36m<module>\u001b[0;34m\u001b[0m\n\u001b[0;32m----> 1\u001b[0;31m \u001b[0menv\u001b[0m\u001b[0;34m.\u001b[0m\u001b[0mscn\u001b[0m\u001b[0;34m.\u001b[0m\u001b[0mcost_structure\u001b[0m\u001b[0;34m(\u001b[0m\u001b[0;34m)\u001b[0m\u001b[0;34m\u001b[0m\u001b[0;34m\u001b[0m\u001b[0m\n\u001b[0m",
      "\u001b[0;31mAttributeError\u001b[0m: 'SupplyChainNetwork' object has no attribute 'cost_structure'"
     ]
    }
   ],
   "source": [
    "env.scn.cost_structure()"
   ]
  },
  {
   "cell_type": "code",
   "execution_count": 7,
   "metadata": {},
   "outputs": [
    {
     "data": {
      "text/plain": [
       "array([85])"
      ]
     },
     "execution_count": 7,
     "metadata": {},
     "output_type": "execute_result"
    }
   ],
   "source": [
    "env.scn.nodes['demand_source'].demands.demands"
   ]
  },
  {
   "cell_type": "code",
   "execution_count": null,
   "metadata": {},
   "outputs": [],
   "source": []
  },
  {
   "cell_type": "code",
   "execution_count": 8,
   "metadata": {},
   "outputs": [],
   "source": [
    "ones= np.ones(1)"
   ]
  },
  {
   "cell_type": "code",
   "execution_count": 9,
   "metadata": {},
   "outputs": [
    {
     "data": {
      "text/plain": [
       "array([4., 1.])"
      ]
     },
     "execution_count": 9,
     "metadata": {},
     "output_type": "execute_result"
    }
   ],
   "source": [
    "np.insert(ones, 0, 4)"
   ]
  },
  {
   "cell_type": "code",
   "execution_count": null,
   "metadata": {},
   "outputs": [],
   "source": []
  },
  {
   "cell_type": "code",
   "execution_count": 10,
   "metadata": {},
   "outputs": [],
   "source": [
    "from scm_gym.envs import build_beer_game"
   ]
  },
  {
   "cell_type": "code",
   "execution_count": 11,
   "metadata": {
    "scrolled": false
   },
   "outputs": [
    {
     "data": {
      "text/plain": [
       "{'inventory': 16,\n",
       " 'unfilled_demand': 4,\n",
       " 'latest_demand': 0,\n",
       " 'on_order': 10,\n",
       " 'previous_order_wholesaler_0': 2,\n",
       " 'previous_order_wholesaler_1': 4,\n",
       " 'previous_order_wholesaler_2': 4,\n",
       " 'previous_order_wholesaler_3': 4}"
      ]
     },
     "execution_count": 11,
     "metadata": {},
     "output_type": "execute_result"
    }
   ],
   "source": [
    "order_quantities = [2]*4 + [8]*20 \n",
    "bg = build_beer_game(player='retailer')\n",
    "\n",
    "states = bg.reset()\n",
    "total_r = 0\n",
    "for i in range(0, 1):\n",
    "    states, reward, terminal = bg.step(order_quantities[i])\n",
    "    total_r += reward\n",
    "    \n",
    "    \n",
    "bg.scn.get_states('retailer',1)\n"
   ]
  },
  {
   "cell_type": "code",
   "execution_count": null,
   "metadata": {},
   "outputs": [],
   "source": []
  },
  {
   "cell_type": "code",
   "execution_count": null,
   "metadata": {},
   "outputs": [],
   "source": []
  }
 ],
 "metadata": {
  "kernelspec": {
   "display_name": "Python 3",
   "language": "python",
   "name": "python3"
  },
  "language_info": {
   "codemirror_mode": {
    "name": "ipython",
    "version": 3
   },
   "file_extension": ".py",
   "mimetype": "text/x-python",
   "name": "python",
   "nbconvert_exporter": "python",
   "pygments_lexer": "ipython3",
   "version": "3.8.3"
  }
 },
 "nbformat": 4,
 "nbformat_minor": 4
}
